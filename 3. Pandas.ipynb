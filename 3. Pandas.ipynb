{
 "cells": [
  {
   "cell_type": "markdown",
   "metadata": {},
   "source": [
    "# Pandas: processing data\n",
    "Before you begin, go over the [demo code of basic statistics and visualization](https://github.com/mgbarsky/cs_1503_basic_stats_demo), presented in class.\n",
    "\n",
    "**TURNING IT IN:** Submit this Jupyter notebook on Canvas by the deadline. Don't submit any other files."
   ]
  },
  {
   "cell_type": "markdown",
   "metadata": {},
   "source": [
    "## So, what is pandas anyway?\n",
    "\n",
    "`pandas` is a Python library for doing data analysis. \n",
    "pandas is a foundational part of using Python for machine Learning. Most if not all things that pandas does can be done with plain-jane Python, but, most of the time, pandas does them *faster* and *easier*. It's built on top of another extremely powerful third-party Python library called `numpy`.\n",
    "\n",
    "Pandas has a powerful set of *structures* and *functions* that make working with large datasets simple. Once you learn these structures and functions, it becomes extremely easy to answer any question you want to ask with a given data set. \n",
    "\n",
    "pandas also interacts nicely with a bunch of other Python libraries and programs:\n",
    "\n",
    "* Jupyter notebooks, that allow you to construct computational narratives with code, data, and text. Displaying dataframes (one of pandas' data structures) as an inline HTML table is one of the major interactions between Jupyter and pandas.\n",
    "* [Matplotlib](https://matplotlib.org/) is a powerful graphing library for Python. Generating plots from dataframes is simple with matplotlib and pandas.\n",
    "* pandas also integrates with scientific computing/machine learning Python libraries, like [SciKit](http://scikit-learn.org/stable/) and [SciPy](https://www.scipy.org/).\n",
    "\n",
    "__Keep running all the code cells as you read__."
   ]
  },
  {
   "cell_type": "markdown",
   "metadata": {
    "collapsed": true
   },
   "source": [
    "## Sample dataset\n",
    "We use the original Titanic dataset, that describes the survival status of individual passengers on the Titanic.\n",
    "\n",
    "The dataset is summarized in file `titanic.csv`. The `.csv` extension means that each tuple is on a separate line, and the values inside each tuple are comma-separated.  "
   ]
  },
  {
   "cell_type": "code",
   "execution_count": 1,
   "metadata": {},
   "outputs": [],
   "source": [
    "file_name = \"titanic.csv\""
   ]
  },
  {
   "cell_type": "code",
   "execution_count": 2,
   "metadata": {},
   "outputs": [],
   "source": [
    "import pandas as pd\n",
    "\n",
    "# this creates a pandas.DataFrame\n",
    "data = pd.read_csv(file_name, index_col='PassengerId')"
   ]
  },
  {
   "cell_type": "code",
   "execution_count": 26,
   "metadata": {},
   "outputs": [
    {
     "data": {
      "text/html": [
       "<div>\n",
       "<style scoped>\n",
       "    .dataframe tbody tr th:only-of-type {\n",
       "        vertical-align: middle;\n",
       "    }\n",
       "\n",
       "    .dataframe tbody tr th {\n",
       "        vertical-align: top;\n",
       "    }\n",
       "\n",
       "    .dataframe thead th {\n",
       "        text-align: right;\n",
       "    }\n",
       "</style>\n",
       "<table border=\"1\" class=\"dataframe\">\n",
       "  <thead>\n",
       "    <tr style=\"text-align: right;\">\n",
       "      <th></th>\n",
       "      <th>Survived</th>\n",
       "      <th>Pclass</th>\n",
       "      <th>Name</th>\n",
       "      <th>Sex</th>\n",
       "      <th>Age</th>\n",
       "      <th>SibSp</th>\n",
       "      <th>Parch</th>\n",
       "      <th>Ticket</th>\n",
       "      <th>Fare</th>\n",
       "      <th>Cabin</th>\n",
       "      <th>Embarked</th>\n",
       "    </tr>\n",
       "    <tr>\n",
       "      <th>PassengerId</th>\n",
       "      <th></th>\n",
       "      <th></th>\n",
       "      <th></th>\n",
       "      <th></th>\n",
       "      <th></th>\n",
       "      <th></th>\n",
       "      <th></th>\n",
       "      <th></th>\n",
       "      <th></th>\n",
       "      <th></th>\n",
       "      <th></th>\n",
       "    </tr>\n",
       "  </thead>\n",
       "  <tbody>\n",
       "    <tr>\n",
       "      <th>1</th>\n",
       "      <td>0</td>\n",
       "      <td>3</td>\n",
       "      <td>Braund, Mr. Owen Harris</td>\n",
       "      <td>male</td>\n",
       "      <td>22.000000</td>\n",
       "      <td>1</td>\n",
       "      <td>0</td>\n",
       "      <td>A/5 21171</td>\n",
       "      <td>7.2500</td>\n",
       "      <td>NaN</td>\n",
       "      <td>S</td>\n",
       "    </tr>\n",
       "    <tr>\n",
       "      <th>2</th>\n",
       "      <td>1</td>\n",
       "      <td>1</td>\n",
       "      <td>Cumings, Mrs. John Bradley (Florence Briggs Th...</td>\n",
       "      <td>female</td>\n",
       "      <td>38.000000</td>\n",
       "      <td>1</td>\n",
       "      <td>0</td>\n",
       "      <td>PC 17599</td>\n",
       "      <td>71.2833</td>\n",
       "      <td>C85</td>\n",
       "      <td>C</td>\n",
       "    </tr>\n",
       "    <tr>\n",
       "      <th>3</th>\n",
       "      <td>1</td>\n",
       "      <td>3</td>\n",
       "      <td>Heikkinen, Miss. Laina</td>\n",
       "      <td>female</td>\n",
       "      <td>26.000000</td>\n",
       "      <td>0</td>\n",
       "      <td>0</td>\n",
       "      <td>STON/O2. 3101282</td>\n",
       "      <td>7.9250</td>\n",
       "      <td>NaN</td>\n",
       "      <td>S</td>\n",
       "    </tr>\n",
       "    <tr>\n",
       "      <th>4</th>\n",
       "      <td>1</td>\n",
       "      <td>1</td>\n",
       "      <td>Futrelle, Mrs. Jacques Heath (Lily May Peel)</td>\n",
       "      <td>female</td>\n",
       "      <td>35.000000</td>\n",
       "      <td>1</td>\n",
       "      <td>0</td>\n",
       "      <td>113803</td>\n",
       "      <td>53.1000</td>\n",
       "      <td>C123</td>\n",
       "      <td>S</td>\n",
       "    </tr>\n",
       "    <tr>\n",
       "      <th>5</th>\n",
       "      <td>0</td>\n",
       "      <td>3</td>\n",
       "      <td>Allen, Mr. William Henry</td>\n",
       "      <td>male</td>\n",
       "      <td>35.000000</td>\n",
       "      <td>0</td>\n",
       "      <td>0</td>\n",
       "      <td>373450</td>\n",
       "      <td>8.0500</td>\n",
       "      <td>NaN</td>\n",
       "      <td>S</td>\n",
       "    </tr>\n",
       "    <tr>\n",
       "      <th>...</th>\n",
       "      <td>...</td>\n",
       "      <td>...</td>\n",
       "      <td>...</td>\n",
       "      <td>...</td>\n",
       "      <td>...</td>\n",
       "      <td>...</td>\n",
       "      <td>...</td>\n",
       "      <td>...</td>\n",
       "      <td>...</td>\n",
       "      <td>...</td>\n",
       "      <td>...</td>\n",
       "    </tr>\n",
       "    <tr>\n",
       "      <th>163</th>\n",
       "      <td>0</td>\n",
       "      <td>3</td>\n",
       "      <td>Bengtsson, Mr. John Viktor</td>\n",
       "      <td>male</td>\n",
       "      <td>26.000000</td>\n",
       "      <td>0</td>\n",
       "      <td>0</td>\n",
       "      <td>347068</td>\n",
       "      <td>7.7750</td>\n",
       "      <td>NaN</td>\n",
       "      <td>S</td>\n",
       "    </tr>\n",
       "    <tr>\n",
       "      <th>164</th>\n",
       "      <td>0</td>\n",
       "      <td>3</td>\n",
       "      <td>Calic, Mr. Jovo</td>\n",
       "      <td>male</td>\n",
       "      <td>17.000000</td>\n",
       "      <td>0</td>\n",
       "      <td>0</td>\n",
       "      <td>315093</td>\n",
       "      <td>8.6625</td>\n",
       "      <td>NaN</td>\n",
       "      <td>S</td>\n",
       "    </tr>\n",
       "    <tr>\n",
       "      <th>165</th>\n",
       "      <td>0</td>\n",
       "      <td>3</td>\n",
       "      <td>Panula, Master. Eino Viljami</td>\n",
       "      <td>male</td>\n",
       "      <td>1.000000</td>\n",
       "      <td>4</td>\n",
       "      <td>1</td>\n",
       "      <td>3101295</td>\n",
       "      <td>39.6875</td>\n",
       "      <td>NaN</td>\n",
       "      <td>S</td>\n",
       "    </tr>\n",
       "    <tr>\n",
       "      <th>166</th>\n",
       "      <td>1</td>\n",
       "      <td>3</td>\n",
       "      <td>Goldsmith, Master. Frank John William \"Frankie\"</td>\n",
       "      <td>male</td>\n",
       "      <td>9.000000</td>\n",
       "      <td>0</td>\n",
       "      <td>2</td>\n",
       "      <td>363291</td>\n",
       "      <td>20.5250</td>\n",
       "      <td>NaN</td>\n",
       "      <td>S</td>\n",
       "    </tr>\n",
       "    <tr>\n",
       "      <th>167</th>\n",
       "      <td>1</td>\n",
       "      <td>1</td>\n",
       "      <td>Chibnall, Mrs. (Edith Martha Bowerman)</td>\n",
       "      <td>female</td>\n",
       "      <td>29.699118</td>\n",
       "      <td>0</td>\n",
       "      <td>1</td>\n",
       "      <td>113505</td>\n",
       "      <td>55.0000</td>\n",
       "      <td>E33</td>\n",
       "      <td>S</td>\n",
       "    </tr>\n",
       "  </tbody>\n",
       "</table>\n",
       "<p>167 rows × 11 columns</p>\n",
       "</div>"
      ],
      "text/plain": [
       "             Survived  Pclass  \\\n",
       "PassengerId                     \n",
       "1                   0       3   \n",
       "2                   1       1   \n",
       "3                   1       3   \n",
       "4                   1       1   \n",
       "5                   0       3   \n",
       "...               ...     ...   \n",
       "163                 0       3   \n",
       "164                 0       3   \n",
       "165                 0       3   \n",
       "166                 1       3   \n",
       "167                 1       1   \n",
       "\n",
       "                                                          Name     Sex  \\\n",
       "PassengerId                                                              \n",
       "1                                      Braund, Mr. Owen Harris    male   \n",
       "2            Cumings, Mrs. John Bradley (Florence Briggs Th...  female   \n",
       "3                                       Heikkinen, Miss. Laina  female   \n",
       "4                 Futrelle, Mrs. Jacques Heath (Lily May Peel)  female   \n",
       "5                                     Allen, Mr. William Henry    male   \n",
       "...                                                        ...     ...   \n",
       "163                                 Bengtsson, Mr. John Viktor    male   \n",
       "164                                            Calic, Mr. Jovo    male   \n",
       "165                               Panula, Master. Eino Viljami    male   \n",
       "166            Goldsmith, Master. Frank John William \"Frankie\"    male   \n",
       "167                     Chibnall, Mrs. (Edith Martha Bowerman)  female   \n",
       "\n",
       "                   Age  SibSp  Parch            Ticket     Fare Cabin Embarked  \n",
       "PassengerId                                                                     \n",
       "1            22.000000      1      0         A/5 21171   7.2500   NaN        S  \n",
       "2            38.000000      1      0          PC 17599  71.2833   C85        C  \n",
       "3            26.000000      0      0  STON/O2. 3101282   7.9250   NaN        S  \n",
       "4            35.000000      1      0            113803  53.1000  C123        S  \n",
       "5            35.000000      0      0            373450   8.0500   NaN        S  \n",
       "...                ...    ...    ...               ...      ...   ...      ...  \n",
       "163          26.000000      0      0            347068   7.7750   NaN        S  \n",
       "164          17.000000      0      0            315093   8.6625   NaN        S  \n",
       "165           1.000000      4      1           3101295  39.6875   NaN        S  \n",
       "166           9.000000      0      2            363291  20.5250   NaN        S  \n",
       "167          29.699118      0      1            113505  55.0000   E33        S  \n",
       "\n",
       "[167 rows x 11 columns]"
      ]
     },
     "execution_count": 26,
     "metadata": {},
     "output_type": "execute_result"
    }
   ],
   "source": [
    "# Selecting rows\n",
    "head = data[:10]\n",
    "\n",
    "head  # if you leave an expression at the end of a cell, jupyter will \"display\" it automatically"
   ]
  },
  {
   "cell_type": "markdown",
   "metadata": {},
   "source": [
    "#### Some dataset attributes\n",
    "* Name - a string with person's full name\n",
    "* Survived - 1 if a person survived the shipwreck, 0 otherwise.\n",
    "* Pclass - passenger class. Pclass == 3 is cheap'n'cheerful, Pclass == 1 is for moneybags.\n",
    "* Sex - a person's gender (in those ol' times when just 2 of them were allowed)\n",
    "* Age - age in years, if available\n",
    "* Sibsp - number of siblings on a ship\n",
    "* Parch - number of parents on a ship\n",
    "* Fare - ticket cost\n",
    "* Embarked - port where the passenger embarked\n",
    "     * C = Cherbourg; Q = Queenstown; S = Southampton"
   ]
  },
  {
   "cell_type": "markdown",
   "metadata": {},
   "source": [
    "## Pandas basics"
   ]
  },
  {
   "cell_type": "code",
   "execution_count": 4,
   "metadata": {},
   "outputs": [
    {
     "name": "stdout",
     "output_type": "stream",
     "text": [
      "len(data) =  891\n",
      "data.shape =  (891, 11)\n"
     ]
    }
   ],
   "source": [
    "# table dimensions\n",
    "print(\"len(data) = \", len(data))\n",
    "print(\"data.shape = \", data.shape)"
   ]
  },
  {
   "cell_type": "code",
   "execution_count": 5,
   "metadata": {},
   "outputs": [
    {
     "name": "stdout",
     "output_type": "stream",
     "text": [
      "Survived                                               1\n",
      "Pclass                                                 1\n",
      "Name        Futrelle, Mrs. Jacques Heath (Lily May Peel)\n",
      "Sex                                               female\n",
      "Age                                                 35.0\n",
      "SibSp                                                  1\n",
      "Parch                                                  0\n",
      "Ticket                                            113803\n",
      "Fare                                                53.1\n",
      "Cabin                                               C123\n",
      "Embarked                                               S\n",
      "Name: 4, dtype: object\n"
     ]
    }
   ],
   "source": [
    "# select a single row - row 4\n",
    "print(data.loc[4])"
   ]
  },
  {
   "cell_type": "code",
   "execution_count": 6,
   "metadata": {},
   "outputs": [
    {
     "name": "stdout",
     "output_type": "stream",
     "text": [
      "PassengerId\n",
      "1     22.0\n",
      "2     38.0\n",
      "3     26.0\n",
      "4     35.0\n",
      "5     35.0\n",
      "6      NaN\n",
      "7     54.0\n",
      "8      2.0\n",
      "9     27.0\n",
      "10    14.0\n",
      "Name: Age, dtype: float64\n"
     ]
    }
   ],
   "source": [
    "# select a single column.\n",
    "ages = data[\"Age\"] # alternatively: data.Age\n",
    "print(ages[:10])  # prints first 10 rows of a single-column dataset"
   ]
  },
  {
   "cell_type": "code",
   "execution_count": 7,
   "metadata": {},
   "outputs": [
    {
     "data": {
      "text/html": [
       "<div>\n",
       "<style scoped>\n",
       "    .dataframe tbody tr th:only-of-type {\n",
       "        vertical-align: middle;\n",
       "    }\n",
       "\n",
       "    .dataframe tbody tr th {\n",
       "        vertical-align: top;\n",
       "    }\n",
       "\n",
       "    .dataframe thead th {\n",
       "        text-align: right;\n",
       "    }\n",
       "</style>\n",
       "<table border=\"1\" class=\"dataframe\">\n",
       "  <thead>\n",
       "    <tr style=\"text-align: right;\">\n",
       "      <th></th>\n",
       "      <th>Fare</th>\n",
       "      <th>Pclass</th>\n",
       "    </tr>\n",
       "    <tr>\n",
       "      <th>PassengerId</th>\n",
       "      <th></th>\n",
       "      <th></th>\n",
       "    </tr>\n",
       "  </thead>\n",
       "  <tbody>\n",
       "    <tr>\n",
       "      <th>5</th>\n",
       "      <td>8.0500</td>\n",
       "      <td>3</td>\n",
       "    </tr>\n",
       "    <tr>\n",
       "      <th>6</th>\n",
       "      <td>8.4583</td>\n",
       "      <td>3</td>\n",
       "    </tr>\n",
       "    <tr>\n",
       "      <th>7</th>\n",
       "      <td>51.8625</td>\n",
       "      <td>1</td>\n",
       "    </tr>\n",
       "    <tr>\n",
       "      <th>8</th>\n",
       "      <td>21.0750</td>\n",
       "      <td>3</td>\n",
       "    </tr>\n",
       "    <tr>\n",
       "      <th>9</th>\n",
       "      <td>11.1333</td>\n",
       "      <td>3</td>\n",
       "    </tr>\n",
       "    <tr>\n",
       "      <th>10</th>\n",
       "      <td>30.0708</td>\n",
       "      <td>2</td>\n",
       "    </tr>\n",
       "  </tbody>\n",
       "</table>\n",
       "</div>"
      ],
      "text/plain": [
       "                Fare  Pclass\n",
       "PassengerId                 \n",
       "5             8.0500       3\n",
       "6             8.4583       3\n",
       "7            51.8625       1\n",
       "8            21.0750       3\n",
       "9            11.1333       3\n",
       "10           30.0708       2"
      ]
     },
     "execution_count": 7,
     "metadata": {},
     "output_type": "execute_result"
    }
   ],
   "source": [
    "# select several columns and rows at once\n",
    "# alternatively: data[[\"Fare\",\"Pclass\"]].loc[5:10]\n",
    "data.loc[5:10, (\"Fare\", \"Pclass\")]"
   ]
  },
  {
   "cell_type": "markdown",
   "metadata": {},
   "source": [
    "Pandas also have some basic data analysis tools. For one, you can quickly display statistical aggregates for each column using `.describe()`"
   ]
  },
  {
   "cell_type": "code",
   "execution_count": 8,
   "metadata": {},
   "outputs": [
    {
     "data": {
      "text/html": [
       "<div>\n",
       "<style scoped>\n",
       "    .dataframe tbody tr th:only-of-type {\n",
       "        vertical-align: middle;\n",
       "    }\n",
       "\n",
       "    .dataframe tbody tr th {\n",
       "        vertical-align: top;\n",
       "    }\n",
       "\n",
       "    .dataframe thead th {\n",
       "        text-align: right;\n",
       "    }\n",
       "</style>\n",
       "<table border=\"1\" class=\"dataframe\">\n",
       "  <thead>\n",
       "    <tr style=\"text-align: right;\">\n",
       "      <th></th>\n",
       "      <th>Survived</th>\n",
       "      <th>Pclass</th>\n",
       "      <th>Age</th>\n",
       "      <th>SibSp</th>\n",
       "      <th>Parch</th>\n",
       "      <th>Fare</th>\n",
       "    </tr>\n",
       "  </thead>\n",
       "  <tbody>\n",
       "    <tr>\n",
       "      <th>count</th>\n",
       "      <td>891.000000</td>\n",
       "      <td>891.000000</td>\n",
       "      <td>714.000000</td>\n",
       "      <td>891.000000</td>\n",
       "      <td>891.000000</td>\n",
       "      <td>891.000000</td>\n",
       "    </tr>\n",
       "    <tr>\n",
       "      <th>mean</th>\n",
       "      <td>0.383838</td>\n",
       "      <td>2.308642</td>\n",
       "      <td>29.699118</td>\n",
       "      <td>0.523008</td>\n",
       "      <td>0.381594</td>\n",
       "      <td>32.204208</td>\n",
       "    </tr>\n",
       "    <tr>\n",
       "      <th>std</th>\n",
       "      <td>0.486592</td>\n",
       "      <td>0.836071</td>\n",
       "      <td>14.526497</td>\n",
       "      <td>1.102743</td>\n",
       "      <td>0.806057</td>\n",
       "      <td>49.693429</td>\n",
       "    </tr>\n",
       "    <tr>\n",
       "      <th>min</th>\n",
       "      <td>0.000000</td>\n",
       "      <td>1.000000</td>\n",
       "      <td>0.420000</td>\n",
       "      <td>0.000000</td>\n",
       "      <td>0.000000</td>\n",
       "      <td>0.000000</td>\n",
       "    </tr>\n",
       "    <tr>\n",
       "      <th>25%</th>\n",
       "      <td>0.000000</td>\n",
       "      <td>2.000000</td>\n",
       "      <td>20.125000</td>\n",
       "      <td>0.000000</td>\n",
       "      <td>0.000000</td>\n",
       "      <td>7.910400</td>\n",
       "    </tr>\n",
       "    <tr>\n",
       "      <th>50%</th>\n",
       "      <td>0.000000</td>\n",
       "      <td>3.000000</td>\n",
       "      <td>28.000000</td>\n",
       "      <td>0.000000</td>\n",
       "      <td>0.000000</td>\n",
       "      <td>14.454200</td>\n",
       "    </tr>\n",
       "    <tr>\n",
       "      <th>75%</th>\n",
       "      <td>1.000000</td>\n",
       "      <td>3.000000</td>\n",
       "      <td>38.000000</td>\n",
       "      <td>1.000000</td>\n",
       "      <td>0.000000</td>\n",
       "      <td>31.000000</td>\n",
       "    </tr>\n",
       "    <tr>\n",
       "      <th>max</th>\n",
       "      <td>1.000000</td>\n",
       "      <td>3.000000</td>\n",
       "      <td>80.000000</td>\n",
       "      <td>8.000000</td>\n",
       "      <td>6.000000</td>\n",
       "      <td>512.329200</td>\n",
       "    </tr>\n",
       "  </tbody>\n",
       "</table>\n",
       "</div>"
      ],
      "text/plain": [
       "         Survived      Pclass         Age       SibSp       Parch        Fare\n",
       "count  891.000000  891.000000  714.000000  891.000000  891.000000  891.000000\n",
       "mean     0.383838    2.308642   29.699118    0.523008    0.381594   32.204208\n",
       "std      0.486592    0.836071   14.526497    1.102743    0.806057   49.693429\n",
       "min      0.000000    1.000000    0.420000    0.000000    0.000000    0.000000\n",
       "25%      0.000000    2.000000   20.125000    0.000000    0.000000    7.910400\n",
       "50%      0.000000    3.000000   28.000000    0.000000    0.000000   14.454200\n",
       "75%      1.000000    3.000000   38.000000    1.000000    0.000000   31.000000\n",
       "max      1.000000    3.000000   80.000000    8.000000    6.000000  512.329200"
      ]
     },
     "execution_count": 8,
     "metadata": {},
     "output_type": "execute_result"
    }
   ],
   "source": [
    "data.describe()"
   ]
  },
  {
   "cell_type": "code",
   "execution_count": 9,
   "metadata": {},
   "outputs": [
    {
     "name": "stdout",
     "output_type": "stream",
     "text": [
      "Only male children\n"
     ]
    },
    {
     "data": {
      "text/html": [
       "<div>\n",
       "<style scoped>\n",
       "    .dataframe tbody tr th:only-of-type {\n",
       "        vertical-align: middle;\n",
       "    }\n",
       "\n",
       "    .dataframe tbody tr th {\n",
       "        vertical-align: top;\n",
       "    }\n",
       "\n",
       "    .dataframe thead th {\n",
       "        text-align: right;\n",
       "    }\n",
       "</style>\n",
       "<table border=\"1\" class=\"dataframe\">\n",
       "  <thead>\n",
       "    <tr style=\"text-align: right;\">\n",
       "      <th></th>\n",
       "      <th>Survived</th>\n",
       "      <th>Pclass</th>\n",
       "      <th>Name</th>\n",
       "      <th>Sex</th>\n",
       "      <th>Age</th>\n",
       "      <th>SibSp</th>\n",
       "      <th>Parch</th>\n",
       "      <th>Ticket</th>\n",
       "      <th>Fare</th>\n",
       "      <th>Cabin</th>\n",
       "      <th>Embarked</th>\n",
       "    </tr>\n",
       "    <tr>\n",
       "      <th>PassengerId</th>\n",
       "      <th></th>\n",
       "      <th></th>\n",
       "      <th></th>\n",
       "      <th></th>\n",
       "      <th></th>\n",
       "      <th></th>\n",
       "      <th></th>\n",
       "      <th></th>\n",
       "      <th></th>\n",
       "      <th></th>\n",
       "      <th></th>\n",
       "    </tr>\n",
       "  </thead>\n",
       "  <tbody>\n",
       "    <tr>\n",
       "      <th>8</th>\n",
       "      <td>0</td>\n",
       "      <td>3</td>\n",
       "      <td>Palsson, Master. Gosta Leonard</td>\n",
       "      <td>male</td>\n",
       "      <td>2.0</td>\n",
       "      <td>3</td>\n",
       "      <td>1</td>\n",
       "      <td>349909</td>\n",
       "      <td>21.0750</td>\n",
       "      <td>NaN</td>\n",
       "      <td>S</td>\n",
       "    </tr>\n",
       "    <tr>\n",
       "      <th>17</th>\n",
       "      <td>0</td>\n",
       "      <td>3</td>\n",
       "      <td>Rice, Master. Eugene</td>\n",
       "      <td>male</td>\n",
       "      <td>2.0</td>\n",
       "      <td>4</td>\n",
       "      <td>1</td>\n",
       "      <td>382652</td>\n",
       "      <td>29.1250</td>\n",
       "      <td>NaN</td>\n",
       "      <td>Q</td>\n",
       "    </tr>\n",
       "    <tr>\n",
       "      <th>51</th>\n",
       "      <td>0</td>\n",
       "      <td>3</td>\n",
       "      <td>Panula, Master. Juha Niilo</td>\n",
       "      <td>male</td>\n",
       "      <td>7.0</td>\n",
       "      <td>4</td>\n",
       "      <td>1</td>\n",
       "      <td>3101295</td>\n",
       "      <td>39.6875</td>\n",
       "      <td>NaN</td>\n",
       "      <td>S</td>\n",
       "    </tr>\n",
       "    <tr>\n",
       "      <th>60</th>\n",
       "      <td>0</td>\n",
       "      <td>3</td>\n",
       "      <td>Goodwin, Master. William Frederick</td>\n",
       "      <td>male</td>\n",
       "      <td>11.0</td>\n",
       "      <td>5</td>\n",
       "      <td>2</td>\n",
       "      <td>CA 2144</td>\n",
       "      <td>46.9000</td>\n",
       "      <td>NaN</td>\n",
       "      <td>S</td>\n",
       "    </tr>\n",
       "    <tr>\n",
       "      <th>64</th>\n",
       "      <td>0</td>\n",
       "      <td>3</td>\n",
       "      <td>Skoog, Master. Harald</td>\n",
       "      <td>male</td>\n",
       "      <td>4.0</td>\n",
       "      <td>3</td>\n",
       "      <td>2</td>\n",
       "      <td>347088</td>\n",
       "      <td>27.9000</td>\n",
       "      <td>NaN</td>\n",
       "      <td>S</td>\n",
       "    </tr>\n",
       "  </tbody>\n",
       "</table>\n",
       "</div>"
      ],
      "text/plain": [
       "             Survived  Pclass                                Name   Sex   Age  \\\n",
       "PassengerId                                                                     \n",
       "8                   0       3      Palsson, Master. Gosta Leonard  male   2.0   \n",
       "17                  0       3                Rice, Master. Eugene  male   2.0   \n",
       "51                  0       3          Panula, Master. Juha Niilo  male   7.0   \n",
       "60                  0       3  Goodwin, Master. William Frederick  male  11.0   \n",
       "64                  0       3               Skoog, Master. Harald  male   4.0   \n",
       "\n",
       "             SibSp  Parch   Ticket     Fare Cabin Embarked  \n",
       "PassengerId                                                 \n",
       "8                3      1   349909  21.0750   NaN        S  \n",
       "17               4      1   382652  29.1250   NaN        Q  \n",
       "51               4      1  3101295  39.6875   NaN        S  \n",
       "60               5      2  CA 2144  46.9000   NaN        S  \n",
       "64               3      2   347088  27.9000   NaN        S  "
      ]
     },
     "execution_count": 9,
     "metadata": {},
     "output_type": "execute_result"
    }
   ],
   "source": [
    "# filters\n",
    "print(\"Only male children\")\n",
    "mc = data[(data['Age'] < 18) & (data['Sex'] == 'male')]\n",
    "mc.head()"
   ]
  },
  {
   "cell_type": "markdown",
   "metadata": {},
   "source": [
    "```\n",
    "```\n",
    "<div style=\"background-color:yellow;\">\n",
    "    <h3>Task 1. Your turn:</h3>    \n",
    "</div>\n",
    "\n"
   ]
  },
  {
   "cell_type": "code",
   "execution_count": 10,
   "metadata": {},
   "outputs": [
    {
     "name": "stdout",
     "output_type": "stream",
     "text": [
      "Passenger 13 survival: 0\n",
      "Passenger 166 survival: 1\n"
     ]
    }
   ],
   "source": [
    "# select passengers number 13 and 666 - did they survive?\n",
    "\n",
    "print(\"Passenger 13 survival: \" + str(data.loc[13][\"Survived\"]))\n",
    "print(\"Passenger 166 survival: \" + str(data.loc[166][\"Survived\"]))"
   ]
  },
  {
   "cell_type": "code",
   "execution_count": 11,
   "metadata": {},
   "outputs": [
    {
     "name": "stdout",
     "output_type": "stream",
     "text": [
      "Survival rate: 0.3838383838383838\n"
     ]
    }
   ],
   "source": [
    "# compute the overall survival rate (what fraction of passengers survived the shipwreck)\n",
    "\n",
    "survived = data[(data[\"Survived\"] == 1)]\n",
    "print(\"Survival rate: \" + str(len(survived)/len(data)))"
   ]
  },
  {
   "cell_type": "markdown",
   "metadata": {},
   "source": [
    "## Missing values\n",
    "Some columns contain __NaN__ values - this means that there is no data there. For example, passenger `#6` has unknown *Age*, some others have unknown *Fare*. To simplify the data analysis, we can replace missing values by using pandas `fillna` function.\n",
    "\n",
    "_Note: we do this only for the purpose of this tutorial. In general, you think twice before you modify data like this._"
   ]
  },
  {
   "cell_type": "code",
   "execution_count": 12,
   "metadata": {},
   "outputs": [
    {
     "data": {
      "text/plain": [
       "Survived                   0\n",
       "Pclass                     3\n",
       "Name        Moran, Mr. James\n",
       "Sex                     male\n",
       "Age                      NaN\n",
       "SibSp                      0\n",
       "Parch                      0\n",
       "Ticket                330877\n",
       "Fare                  8.4583\n",
       "Cabin                    NaN\n",
       "Embarked                   Q\n",
       "Name: 6, dtype: object"
      ]
     },
     "execution_count": 12,
     "metadata": {},
     "output_type": "execute_result"
    }
   ],
   "source": [
    "# Age before replacement\n",
    "data.loc[6]"
   ]
  },
  {
   "cell_type": "code",
   "execution_count": 13,
   "metadata": {},
   "outputs": [],
   "source": [
    "data['Age'] = data['Age'].fillna(value=data['Age'].mean())\n"
   ]
  },
  {
   "cell_type": "code",
   "execution_count": 14,
   "metadata": {},
   "outputs": [
    {
     "data": {
      "text/plain": [
       "Survived                   0\n",
       "Pclass                     3\n",
       "Name        Moran, Mr. James\n",
       "Sex                     male\n",
       "Age                29.699118\n",
       "SibSp                      0\n",
       "Parch                      0\n",
       "Ticket                330877\n",
       "Fare                  8.4583\n",
       "Cabin                    NaN\n",
       "Embarked                   Q\n",
       "Name: 6, dtype: object"
      ]
     },
     "execution_count": 14,
     "metadata": {},
     "output_type": "execute_result"
    }
   ],
   "source": [
    "# Age after replacement - meaning?\n",
    "data.loc[6]"
   ]
  },
  {
   "cell_type": "markdown",
   "metadata": {},
   "source": [
    "```\n",
    "```\n",
    "<div style=\"background-color:yellow;\">\n",
    "    <h3>Task 2. Your turn:</h3>    \n",
    "</div>\n"
   ]
  },
  {
   "cell_type": "code",
   "execution_count": 15,
   "metadata": {},
   "outputs": [],
   "source": [
    "# Replace the missing values of the \"Fare\" column with the median of the fair value:\n",
    "\n",
    "data['Fare'] = data['Fare'].fillna(value=data['Fare'].median())"
   ]
  },
  {
   "cell_type": "markdown",
   "metadata": {},
   "source": [
    "## Basic statistics\n",
    "\n",
    "We can compute all the basic statistics on the dataset. For example, we can compute a max of the Fare column like this:"
   ]
  },
  {
   "cell_type": "code",
   "execution_count": 16,
   "metadata": {},
   "outputs": [
    {
     "data": {
      "text/plain": [
       "512.3292"
      ]
     },
     "execution_count": 16,
     "metadata": {},
     "output_type": "execute_result"
    }
   ],
   "source": [
    "# computes a max ticket price and find the passenger who paid the most\n",
    "m = data[\"Fare\"].max()\n",
    "m"
   ]
  },
  {
   "cell_type": "markdown",
   "metadata": {},
   "source": [
    "Let's locate a person (or persons) who paid this max price:"
   ]
  },
  {
   "cell_type": "code",
   "execution_count": 17,
   "metadata": {},
   "outputs": [
    {
     "data": {
      "text/plain": [
       "Survived                              1\n",
       "Pclass                                2\n",
       "Name        Parrish, Mrs. (Lutie Davis)\n",
       "Sex                              female\n",
       "Age                                50.0\n",
       "SibSp                                 0\n",
       "Parch                                 1\n",
       "Ticket                           230433\n",
       "Fare                               26.0\n",
       "Cabin                               NaN\n",
       "Embarked                              S\n",
       "Name: 260, dtype: object"
      ]
     },
     "execution_count": 17,
     "metadata": {},
     "output_type": "execute_result"
    }
   ],
   "source": [
    "data.iloc[data['Fare'].idxmax()] "
   ]
  },
  {
   "cell_type": "markdown",
   "metadata": {},
   "source": [
    "The `iloc()` function provides a way to access specific rows and columns in a pandas DataFrame using integer-based indexing. So, `idxmax()` first returned the index row of the max Fare. and the we locate and retrieve data based on its position within the DataFrame."
   ]
  },
  {
   "cell_type": "markdown",
   "metadata": {},
   "source": [
    "```\n",
    "```\n",
    "<div style=\"background-color:yellow;\">\n",
    "    <h3>Task 3. Your turn:</h3>    \n",
    "</div>\n"
   ]
  },
  {
   "cell_type": "code",
   "execution_count": 24,
   "metadata": {},
   "outputs": [
    {
     "name": "stdout",
     "output_type": "stream",
     "text": [
      "Mean passenger age: 29.699117647058763\n"
     ]
    },
    {
     "data": {
      "text/plain": [
       "Survived                                    1\n",
       "Pclass                                      1\n",
       "Name        Andrews, Miss. Kornelia Theodosia\n",
       "Sex                                    female\n",
       "Age                                      63.0\n",
       "SibSp                                       1\n",
       "Parch                                       0\n",
       "Ticket                                  13502\n",
       "Fare                                  77.9583\n",
       "Cabin                                      D7\n",
       "Embarked                                    S\n",
       "Name: 276, dtype: object"
      ]
     },
     "execution_count": 24,
     "metadata": {},
     "output_type": "execute_result"
    }
   ],
   "source": [
    "# your code: compute mean passenger age and the data about the oldest woman on the ship\n",
    "\n",
    "print(\"Mean passenger age: \" + str(data[\"Age\"].mean()))\n",
    "\n",
    "womenData = data[(data[\"Sex\"] == \"female\")]\n",
    "data.iloc[womenData[\"Age\"].idxmax() - 1]"
   ]
  },
  {
   "cell_type": "code",
   "execution_count": 28,
   "metadata": {},
   "outputs": [
    {
     "name": "stdout",
     "output_type": "stream",
     "text": [
      "25.523893414211418 44.47981783439487\n"
     ]
    }
   ],
   "source": [
    "# who on average paid more for their ticket, men or women?\n",
    "\n",
    "mean_fare_men = data[(data[\"Sex\"] == \"male\")][\"Fare\"].mean()\n",
    "mean_fare_women = data[(data[\"Sex\"] == \"female\")][\"Fare\"].mean()\n",
    "\n",
    "print(mean_fare_men, mean_fare_women)"
   ]
  },
  {
   "cell_type": "code",
   "execution_count": 31,
   "metadata": {},
   "outputs": [
    {
     "name": "stdout",
     "output_type": "stream",
     "text": [
      "0.06846240179573512 0.3153759820426487\n"
     ]
    }
   ],
   "source": [
    "# who is more likely to survive: a child (<18 yo) or an adult?\n",
    "\n",
    "child_survival_rate = len(data[(data[\"Age\"] < 18) & data[\"Survived\"] == 1])/len(data)\n",
    "adult_survival_rate = len(data[(data[\"Age\"] >= 18) & data[\"Survived\"] == 1])/len(data)\n",
    "\n",
    "print(child_survival_rate, adult_survival_rate)"
   ]
  },
  {
   "cell_type": "markdown",
   "metadata": {},
   "source": [
    "More about Pandas:\n",
    "[kaggle microlesson](https://www.kaggle.com/learn/pandas)"
   ]
  },
  {
   "cell_type": "markdown",
   "metadata": {},
   "source": [
    "## Plots and matplotlib\n",
    "\n",
    "Using python to visualize the data is covered by yet another library: `matplotlib`."
   ]
  },
  {
   "cell_type": "code",
   "execution_count": 32,
   "metadata": {},
   "outputs": [
    {
     "data": {
      "text/plain": [
       "[<matplotlib.lines.Line2D at 0x7f827ce3c1c0>]"
      ]
     },
     "execution_count": 32,
     "metadata": {},
     "output_type": "execute_result"
    },
    {
     "data": {
      "image/png": "[encoded data removed]",
      "text/plain": [
       "<Figure size 432x288 with 1 Axes>"
      ]
     },
     "metadata": {
      "needs_background": "light"
     },
     "output_type": "display_data"
    }
   ],
   "source": [
    "import matplotlib.pyplot as plt\n",
    "%matplotlib inline\n",
    "# ^-- this \"magic\" tells all future matplotlib plots to be drawn inside notebook and not in a separate window.\n",
    "\n",
    "# line plot\n",
    "plt.plot([0, 1, 2, 3, 4, 5], [0, 1, 4, 9, 16, 25])"
   ]
  },
  {
   "cell_type": "code",
   "execution_count": 33,
   "metadata": {},
   "outputs": [
    {
     "data": {
      "image/png": "[encoded data removed]",
      "text/plain": [
       "<Figure size 432x288 with 1 Axes>"
      ]
     },
     "metadata": {
      "needs_background": "light"
     },
     "output_type": "display_data"
    }
   ],
   "source": [
    "# scatter-plot\n",
    "plt.scatter([0, 1, 2, 3, 4, 5], [0, 1, 4, 9, 16, 25])\n",
    "\n",
    "plt.show()  # show the first plot and begin drawing next one"
   ]
  },
  {
   "cell_type": "code",
   "execution_count": 34,
   "metadata": {},
   "outputs": [
    {
     "data": {
      "text/plain": [
       "Text(0, 0.5, '# of data scientists per 100,000')"
      ]
     },
     "execution_count": 34,
     "metadata": {},
     "output_type": "execute_result"
    },
    {
     "data": {
      "image/png": "[encoded data removed]",
      "text/plain": [
       "<Figure size 432x288 with 1 Axes>"
      ]
     },
     "metadata": {
      "needs_background": "light"
     },
     "output_type": "display_data"
    }
   ],
   "source": [
    "# draw a scatter plot with custom markers and colors\n",
    "plt.scatter([1, 1, 2, 3, 4, 4.5], [3, 2, 2, 5, 15, 24],\n",
    "            c=[\"red\", \"blue\", \"orange\", \"green\", \"cyan\", \"gray\"], marker=\"x\")\n",
    "\n",
    "# without .show(), several plots will be drawn on top of one another\n",
    "plt.plot([0, 1, 2, 3, 4, 5], [0, 1, 4, 9, 16, 25], c=\"black\")\n",
    "\n",
    "# adding more sugar\n",
    "plt.title(\"Conspiracy theory proven!!!\")\n",
    "plt.xlabel(\"Per capita alcohol consumption\")\n",
    "plt.ylabel(\"# of data scientists per 100,000\")\n",
    "\n",
    "# fun with correlations: http://bit.ly/1FcNnWF"
   ]
  },
  {
   "cell_type": "code",
   "execution_count": 35,
   "metadata": {},
   "outputs": [
    {
     "data": {
      "image/png": "[encoded data removed]",
      "text/plain": [
       "<Figure size 432x288 with 1 Axes>"
      ]
     },
     "metadata": {
      "needs_background": "light"
     },
     "output_type": "display_data"
    },
    {
     "data": {
      "text/plain": [
       "(array([4., 7., 5., 3., 3.]),\n",
       " array([ 0.,  2.,  4.,  6.,  8., 10.]),\n",
       " <BarContainer object of 5 artists>)"
      ]
     },
     "execution_count": 35,
     "metadata": {},
     "output_type": "execute_result"
    },
    {
     "data": {
      "image/png": "[encoded data removed]",
      "text/plain": [
       "<Figure size 432x288 with 1 Axes>"
      ]
     },
     "metadata": {
      "needs_background": "light"
     },
     "output_type": "display_data"
    }
   ],
   "source": [
    "# histogram - showing data density\n",
    "plt.hist([0, 1, 1, 1, 2, 2, 3, 3, 3, 3, 3, 4, 4, 5, 5, 5, 6, 7, 7, 8, 9, 10])\n",
    "plt.show()\n",
    "\n",
    "plt.hist([0, 1, 1, 1, 2, 2, 3, 3, 3, 3, 3, 4,\n",
    "          4, 5, 5, 5, 6, 7, 7, 8, 9, 10], bins=5)"
   ]
  },
  {
   "cell_type": "markdown",
   "metadata": {},
   "source": [
    "```\n",
    "```\n",
    "<div style=\"background-color:yellow;\">\n",
    "    <h3>Task 4. Your turn:</h3>    \n",
    "</div>\n"
   ]
  },
  {
   "cell_type": "code",
   "execution_count": 39,
   "metadata": {},
   "outputs": [
    {
     "data": {
      "image/png": "[encoded data removed]",
      "text/plain": [
       "<Figure size 432x288 with 1 Axes>"
      ]
     },
     "metadata": {
      "needs_background": "light"
     },
     "output_type": "display_data"
    },
    {
     "data": {
      "image/png": "[encoded data removed]",
      "text/plain": [
       "<Figure size 432x288 with 1 Axes>"
      ]
     },
     "metadata": {
      "needs_background": "light"
     },
     "output_type": "display_data"
    }
   ],
   "source": [
    "# plot a histogram of age and a histogram of ticket fares on separate plots\n",
    "\n",
    "plt.hist(data[\"Age\"])\n",
    "plt.xlabel(\"Age\")\n",
    "plt.ylabel(\"Frequency\")\n",
    "plt.title(\"Age of Passengers\")\n",
    "plt.show()\n",
    "\n",
    "plt.hist(data[\"Fare\"])\n",
    "plt.xlabel(\"Fares\")\n",
    "plt.ylabel(\"Frequency\")\n",
    "plt.title(\"Fares of Passengers\")\n",
    "plt.show()"
   ]
  },
  {
   "cell_type": "code",
   "execution_count": 49,
   "metadata": {},
   "outputs": [
    {
     "data": {
      "image/png": "[encoded data removed]",
      "text/plain": [
       "<Figure size 432x288 with 1 Axes>"
      ]
     },
     "metadata": {
      "needs_background": "light"
     },
     "output_type": "display_data"
    }
   ],
   "source": [
    "# Can you do that? find out if there is a way to draw a 2D histogram of age vs fare.\n",
    "\n",
    "plt.hist2d(data[\"Age\"], data[\"Fare\"])\n",
    "plt.show()"
   ]
  },
  {
   "cell_type": "code",
   "execution_count": 51,
   "metadata": {},
   "outputs": [
    {
     "data": {
      "image/png": "[encoded data removed]",
      "text/plain": [
       "<Figure size 432x288 with 1 Axes>"
      ]
     },
     "metadata": {
      "needs_background": "light"
     },
     "output_type": "display_data"
    }
   ],
   "source": [
    "# make a scatter plot of passenger age vs ticket fare\n",
    "\n",
    "plt.scatter(data['Age'], data['Fare'])\n",
    "plt.xlabel(\"Age\")\n",
    "plt.ylabel(\"Fare\")\n",
    "plt.title(\"Age vs Fare\")\n",
    "plt.show()"
   ]
  },
  {
   "cell_type": "code",
   "execution_count": 58,
   "metadata": {},
   "outputs": [
    {
     "name": "stderr",
     "output_type": "stream",
     "text": [
      "No handles with labels found to put in legend.\n"
     ]
    },
    {
     "data": {
      "image/png": "[encoded data removed]",
      "text/plain": [
       "<Figure size 432x288 with 1 Axes>"
      ]
     },
     "metadata": {
      "needs_background": "light"
     },
     "output_type": "display_data"
    }
   ],
   "source": [
    "# Can you do that? add separate colors for men and women\n",
    "\n",
    "male_data = data[(data[\"Sex\"] == \"male\")]\n",
    "plt.scatter(male_data['Age'], male_data[\"Fare\"], color = 'red')\n",
    "female_data = data[(data[\"Sex\"] == \"female\")]\n",
    "plt.scatter(female_data['Age'], female_data[\"Fare\"], color = 'blue')\n",
    "plt.xlabel(\"Age\")\n",
    "plt.ylabel(\"Fare\")\n",
    "plt.title(\"Age vs Fare\")\n",
    "plt.show()"
   ]
  },
  {
   "cell_type": "markdown",
   "metadata": {},
   "source": [
    "More about Data visualization:\n",
    "[kaggle microlesson](https://www.kaggle.com/learn/data-visualization)"
   ]
  },
  {
   "cell_type": "markdown",
   "metadata": {},
   "source": [
    "### This is the end of the pandas-primer recitation. \n",
    "\n",
    "Copyright &copy; 2020 Marina Barsky."
   ]
  }
 ],
 "metadata": {
  "kernelspec": {
   "display_name": "Python 3",
   "language": "python",
   "name": "python3"
  },
  "language_info": {
   "codemirror_mode": {
    "name": "ipython",
    "version": 3
   },
   "file_extension": ".py",
   "mimetype": "text/x-python",
   "name": "python",
   "nbconvert_exporter": "python",
   "pygments_lexer": "ipython3",
   "version": "3.8.8"
  }
 },
 "nbformat": 4,
 "nbformat_minor": 1
}
