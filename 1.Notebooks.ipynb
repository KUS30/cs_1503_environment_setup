{
 "cells": [
  {
   "cell_type": "markdown",
   "id": "5a7b50c4",
   "metadata": {},
   "source": [
    "# Assignment 2 First Notebook\n",
    "\n",
    "\n",
    "1. Kunal Saxena\n",
    "2. 01/19/2024"
   ]
  },
  {
   "cell_type": "markdown",
   "id": "cd3bf560",
   "metadata": {},
   "source": [
    "## Markdown Exercises\n",
    "\n",
    "1. The concept of artificially creating structure out of a seemingly random set of data is always an interesting concept. So the ability to train algorithms to understand and **learn how to develop better** patterns through various iterations via curation is something that will always interest me. The motivation to understand the technical details of machine learning and why it works will always be an *incredibly* strong desire from my part, and why I enjoy machine learning.\n",
    "\n",
    "\n",
    "\n",
    "2. Three things I want to take from this course...\n",
    "    * To understand how probabilistic models tie into the creation of neural networks.\n",
    "    * To understand the propagation of neural networks in a mathematical sense.\n",
    "    * To understand how matrices can better represent weights and inputs and how to manipulate them to create training models for our network.\n",
    "    \n",
    "\n",
    "\n",
    "\n",
    "\n",
    "3. ![Alt Text](https://media1.giphy.com/media/v1.Y2lkPTc5MGI3NjExa3I3NHNmN3RmcGVpMnA3bDQ4Z2t1MTJwZ3Q2d2g1dWM0dmJ1bnZqOSZlcD12MV9pbnRlcm5hbF9naWZfYnlfaWQmY3Q9Zw/3QWfMsI8IaarXxtBt6/giphy.gif)"
   ]
  },
  {
   "cell_type": "markdown",
   "id": "09981b72",
   "metadata": {},
   "source": [
    "## Jupyter Notebook Exercises"
   ]
  },
  {
   "cell_type": "code",
   "execution_count": 3,
   "id": "d2181fc7",
   "metadata": {},
   "outputs": [
    {
     "name": "stdout",
     "output_type": "stream",
     "text": [
      "What is your name? Kunal\n",
      "Hello Kunal !\n"
     ]
    }
   ],
   "source": [
    "name = input(prompt=\"What is your name? \")\n",
    "print(\"Hello\", name, \"!\")"
   ]
  }
 ],
 "metadata": {
  "kernelspec": {
   "display_name": "Python 3",
   "language": "python",
   "name": "python3"
  },
  "language_info": {
   "codemirror_mode": {
    "name": "ipython",
    "version": 3
   },
   "file_extension": ".py",
   "mimetype": "text/x-python",
   "name": "python",
   "nbconvert_exporter": "python",
   "pygments_lexer": "ipython3",
   "version": "3.8.8"
  }
 },
 "nbformat": 4,
 "nbformat_minor": 5
}
